{
 "cells": [
  {
   "cell_type": "markdown",
   "id": "3e47d1bc",
   "metadata": {},
   "source": [
    "# Data Science Tools and Ecosystem"
   ]
  },
  {
   "cell_type": "markdown",
   "id": "66083f0e",
   "metadata": {},
   "source": [
    "### In this notebook, Data Science Tools and Ecosystem are summarized. The lenguages more commun and the more popular tools for data science."
   ]
  },
  {
   "cell_type": "markdown",
   "id": "0cca585b",
   "metadata": {},
   "source": [
    "### Some of the popular languages that Data Scientists use are:\n",
    "#### 1.Python\n",
    "#### 2. R\n",
    "#### 3. Julia"
   ]
  },
  {
   "cell_type": "markdown",
   "id": "654206b8",
   "metadata": {},
   "source": [
    "## Objectives:\n",
    "\n",
    "- **List popular languages for Data Science**\n",
    "- **Explore commonly used libraries in Data Science**\n",
    "- **Understand key elements for becoming a Data Scientist**\n",
    "- **Create a simple table in Markdown**\n",
    "- **Highlight key takeaways from the course**"
   ]
  },
  {
   "cell_type": "markdown",
   "id": "422f490d",
   "metadata": {},
   "source": [
    "### Some of the commonly used libraries used by Data Scientists include:\n",
    "#### 1. Pandas\n",
    "#### 2. NumPy\n",
    "#### 3. Seaborn"
   ]
  },
  {
   "cell_type": "markdown",
   "id": "e0e4ca6b",
   "metadata": {},
   "source": [
    "| Data Science Tools     |\n",
    "|------------------------|\n",
    "| Jupyter Notebooks      |\n",
    "| RStudio                |\n",
    "| VS Code with Python    |"
   ]
  },
  {
   "cell_type": "markdown",
   "id": "4495be05",
   "metadata": {},
   "source": [
    "### Below are a few examples of evaluating arithmetic expressions in Python"
   ]
  },
  {
   "cell_type": "code",
   "execution_count": 3,
   "id": "1af984d6",
   "metadata": {},
   "outputs": [
    {
     "data": {
      "text/plain": [
       "17"
      ]
     },
     "execution_count": 3,
     "metadata": {},
     "output_type": "execute_result"
    }
   ],
   "source": [
    "(3*4)+5"
   ]
  },
  {
   "cell_type": "code",
   "execution_count": 2,
   "id": "b0650aec",
   "metadata": {},
   "outputs": [],
   "source": [
    "## This a simple arithmetic expression to mutiply then add integers"
   ]
  },
  {
   "cell_type": "code",
   "execution_count": 4,
   "id": "f9fbfb21",
   "metadata": {},
   "outputs": [
    {
     "data": {
      "text/plain": [
       "3.3333333333333335"
      ]
     },
     "execution_count": 4,
     "metadata": {},
     "output_type": "execute_result"
    }
   ],
   "source": [
    "200/60"
   ]
  },
  {
   "cell_type": "code",
   "execution_count": null,
   "id": "f509ff72",
   "metadata": {},
   "outputs": [],
   "source": [
    "## "
   ]
  },
  {
   "cell_type": "markdown",
   "id": "c59cd530",
   "metadata": {},
   "source": [
    "## Author\n",
    "Diana Delfino Llerena"
   ]
  },
  {
   "cell_type": "code",
   "execution_count": null,
   "id": "a846cbd3",
   "metadata": {},
   "outputs": [],
   "source": []
  }
 ],
 "metadata": {
  "kernelspec": {
   "display_name": "Python 3 (ipykernel)",
   "language": "python",
   "name": "python3"
  },
  "language_info": {
   "codemirror_mode": {
    "name": "ipython",
    "version": 3
   },
   "file_extension": ".py",
   "mimetype": "text/x-python",
   "name": "python",
   "nbconvert_exporter": "python",
   "pygments_lexer": "ipython3",
   "version": "3.11.5"
  }
 },
 "nbformat": 4,
 "nbformat_minor": 5
}
